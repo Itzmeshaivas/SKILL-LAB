{
 "cells": [
  {
   "cell_type": "markdown",
   "id": "d654e77b-e522-4d89-9ecf-5304cddfe3b8",
   "metadata": {},
   "source": [
    "basic of trees"
   ]
  },
  {
   "cell_type": "code",
   "execution_count": 82,
   "id": "74f4c471-8305-432f-ba74-811adeb4042e",
   "metadata": {},
   "outputs": [],
   "source": [
    "class BST:\n",
    "    class Node:\n",
    "        def __init__ (self,data):\n",
    "            self.data=data\n",
    "            self.left=None\n",
    "            self.right=None\n",
    "    def __init__ (self):\n",
    "        self.root=None\n",
    "    def insert(self,data):\n",
    "        newnode=BST.Node(data)\n",
    "        if self.root is None:\n",
    "            self.root=newnode\n",
    "            return self.root\n",
    "        current=self.root\n",
    "        while True:\n",
    "            if data<current.data:\n",
    "                if current.left is None:\n",
    "                    current.left=newnode\n",
    "                    break\n",
    "                else:\n",
    "                    current=current.left\n",
    "            else:\n",
    "                if current.right is None:\n",
    "                    current.right=newnode\n",
    "                    break\n",
    "                else:\n",
    "                    current=current.right\n",
    "    def inorder(self,node):\n",
    "        if node:\n",
    "            self.inorder(node.left)\n",
    "            print(node.data,end=' ' )\n",
    "            self.inorder(node.right)\n",
    "    def preorder(self,node):\n",
    "        if node:\n",
    "            print(node.data,end=' ')\n",
    "            self.preorder(node.left)\n",
    "            self.preorder(node.right)\n",
    "    def postorder(self,node):\n",
    "        if node:\n",
    "            self.postorder(node.left)\n",
    "            self.postorder(node.right)\n",
    "            print(node.data,end=' ')\n",
    "    def search(self,key):\n",
    "        current=self.root\n",
    "        while current:\n",
    "            if key==current.data:\n",
    "                return True\n",
    "                break\n",
    "            elif key<current.data:\n",
    "                current=current.left\n",
    "            else:\n",
    "                current=current.right\n",
    "        return False\n",
    "    def isvalid(self,root):\n",
    "        def isvalidBST(node, low=float('-inf'), high=float('inf')):\n",
    "            if node is None:\n",
    "                return True\n",
    "            if not(low<node.val<high):\n",
    "                return False\n",
    "            return (isvalid(node.left, low, node.val) and isvalid(node.right, node.val, high))\n",
    "        return isvalid(root)\n",
    "    \n",
    "            \n",
    "                    \n",
    "                \n",
    "        "
   ]
  },
  {
   "cell_type": "code",
   "execution_count": 83,
   "id": "29b84ee9-dbdc-4eb6-b6ad-9af66e25a38e",
   "metadata": {},
   "outputs": [],
   "source": [
    "tra=BST()\n",
    "tra.insert(10)\n",
    "tra.insert(20)\n",
    "tra.insert(85)\n",
    "tra.insert(45)\n",
    "tra.insert(90)\n",
    "tra.insert(60)\n",
    "tra.insert(70)\n",
    "tra.insert(80)\n"
   ]
  },
  {
   "cell_type": "code",
   "execution_count": 84,
   "id": "3a2eab8a-c932-4683-894b-beb2e75e93f0",
   "metadata": {},
   "outputs": [
    {
     "name": "stdout",
     "output_type": "stream",
     "text": [
      "10 20 45 60 70 80 85 90 "
     ]
    }
   ],
   "source": [
    "tra.inorder(tra.root)"
   ]
  },
  {
   "cell_type": "code",
   "execution_count": 85,
   "id": "c6094496-373f-4639-ba5c-f56df6f2e336",
   "metadata": {},
   "outputs": [
    {
     "name": "stdout",
     "output_type": "stream",
     "text": [
      "10 20 85 45 60 70 80 90 "
     ]
    }
   ],
   "source": [
    "tra.preorder(tra.root)"
   ]
  },
  {
   "cell_type": "code",
   "execution_count": 86,
   "id": "af5c9c2e-9265-499d-bb35-837e2dccd599",
   "metadata": {},
   "outputs": [
    {
     "name": "stdout",
     "output_type": "stream",
     "text": [
      "80 70 60 45 90 85 20 10 "
     ]
    }
   ],
   "source": [
    "tra.postorder(tra.root)"
   ]
  },
  {
   "cell_type": "code",
   "execution_count": 87,
   "id": "fe85275d-cee3-4ac8-a699-03442d72a7af",
   "metadata": {},
   "outputs": [
    {
     "data": {
      "text/plain": [
       "False"
      ]
     },
     "execution_count": 87,
     "metadata": {},
     "output_type": "execute_result"
    }
   ],
   "source": [
    "tra.search(78)"
   ]
  },
  {
   "cell_type": "code",
   "execution_count": 88,
   "id": "46e623c7-5c1b-4091-ad30-1ba4b53a7433",
   "metadata": {},
   "outputs": [
    {
     "data": {
      "text/plain": [
       "True"
      ]
     },
     "execution_count": 88,
     "metadata": {},
     "output_type": "execute_result"
    }
   ],
   "source": [
    "tra.search(85)"
   ]
  },
  {
   "cell_type": "markdown",
   "id": "e1b5b47d-3f18-466d-bdaf-a559a8f759c2",
   "metadata": {},
   "source": [
    "invereting the dictionary"
   ]
  },
  {
   "cell_type": "code",
   "execution_count": null,
   "id": "7c5deb98-03fe-4070-a406-0241df0f5d46",
   "metadata": {},
   "outputs": [],
   "source": [
    "def invertdict(dict):\n",
    "    invert = {value: key for key, value in dict.items()}\n",
    "    return invert"
   ]
  },
  {
   "cell_type": "code",
   "execution_count": 107,
   "id": "1838ebfa-eac1-4e7d-a694-5633537c9545",
   "metadata": {},
   "outputs": [
    {
     "name": "stdout",
     "output_type": "stream",
     "text": [
      "{1: 'a', 2: 'b', 3: 'c'}\n"
     ]
    }
   ],
   "source": [
    "sampledict = {'a': 1, 'b': 2, 'c': 3}\n",
    "inverted = invertdict(sample_dict)\n",
    "print(inverted)"
   ]
  },
  {
   "cell_type": "markdown",
   "id": "9202328c-5daf-4d96-81ec-be93ef1c14f0",
   "metadata": {},
   "source": [
    "add carry "
   ]
  },
  {
   "cell_type": "code",
   "execution_count": null,
   "id": "879efba9-cd27-43ce-b49c-8b8cf85453b0",
   "metadata": {},
   "outputs": [],
   "source": [
    "def add_with_carry(num1, num2):\n",
    "    strnum1 = str(num1)[::-1]  \n",
    "    strnum2 = str(num2)[::-1]  \n",
    "    \n",
    "    maxlen = max(len(strnum1), len(strnum2))\n",
    "    strnum1 = num1.ljust(maxlen, '0')\n",
    "    strnum2 = strnum2.ljust(maxlen, '0')\n",
    "    \n",
    "    carry = 0\n",
    "    result = []\n",
    "    for i in range(maxlen):\n",
    "        sum = int(num1[i]) + int(num2[i]) + carry\n",
    "        carry = sum // 10  \n",
    "        result.append(str(sum % 10))  \n",
    "    if carry:\n",
    "        result.append(str(carry))\n",
    "    return ''.join(result[::-1])\n"
   ]
  },
  {
   "cell_type": "code",
   "execution_count": null,
   "id": "7051c891-4e09-4371-aa08-415fc33d4a24",
   "metadata": {},
   "outputs": [],
   "source": []
  }
 ],
 "metadata": {
  "kernelspec": {
   "display_name": "Python 3 (ipykernel)",
   "language": "python",
   "name": "python3"
  },
  "language_info": {
   "codemirror_mode": {
    "name": "ipython",
    "version": 3
   },
   "file_extension": ".py",
   "mimetype": "text/x-python",
   "name": "python",
   "nbconvert_exporter": "python",
   "pygments_lexer": "ipython3",
   "version": "3.11.7"
  }
 },
 "nbformat": 4,
 "nbformat_minor": 5
}
