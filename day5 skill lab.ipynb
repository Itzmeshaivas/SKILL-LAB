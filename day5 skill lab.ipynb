{
 "cells": [
  {
   "cell_type": "markdown",
   "id": "d056b70b-b258-4d81-8bd9-cc920458938d",
   "metadata": {},
   "source": [
    "majority element"
   ]
  },
  {
   "cell_type": "code",
   "execution_count": 6,
   "id": "d11e24a2-b83c-45e0-a839-f3c15dc5e434",
   "metadata": {},
   "outputs": [],
   "source": [
    "def majorityelement(nums):\n",
    "    nums.sort()\n",
    "    return nums[len(nums)//2]"
   ]
  },
  {
   "cell_type": "code",
   "execution_count": 7,
   "id": "bba2a4f9-5319-4a8a-8b2d-582ca6def564",
   "metadata": {},
   "outputs": [
    {
     "data": {
      "text/plain": [
       "3"
      ]
     },
     "execution_count": 7,
     "metadata": {},
     "output_type": "execute_result"
    }
   ],
   "source": [
    "majorityelement([1,2,1,2,3,4,5,6])"
   ]
  },
  {
   "cell_type": "markdown",
   "id": "e1f8fed1-3e45-48bc-9806-d0173375aace",
   "metadata": {},
   "source": [
    "intersection of two array"
   ]
  },
  {
   "cell_type": "code",
   "execution_count": 18,
   "id": "d9b9522b-d9d0-4564-87c6-3199b8a0f0ad",
   "metadata": {},
   "outputs": [],
   "source": [
    "def intersection(num1,num2):\n",
    "    x=set(num1)\n",
    "    y=set(num2)\n",
    "    return x.intersection(y)\n",
    "    "
   ]
  },
  {
   "cell_type": "code",
   "execution_count": 19,
   "id": "0bb29e49-71dc-4808-a527-ad4efc25e132",
   "metadata": {},
   "outputs": [
    {
     "data": {
      "text/plain": [
       "{1, 2, 3}"
      ]
     },
     "execution_count": 19,
     "metadata": {},
     "output_type": "execute_result"
    }
   ],
   "source": [
    "intersection([1,1,2,3,4],[1,2,3,6,7,8])\n"
   ]
  },
  {
   "cell_type": "markdown",
   "id": "299d4bd3-f3c7-4490-b92f-63fa9ed205fa",
   "metadata": {},
   "source": [
    "rat count house"
   ]
  },
  {
   "cell_type": "code",
   "execution_count": 66,
   "id": "1e1f78dc-a47c-4873-8586-62bc2ba1a162",
   "metadata": {},
   "outputs": [],
   "source": [
    "def rat(r,u,arr,n):\n",
    "    #array is null\n",
    "    if n==0:\n",
    "        return -1\n",
    "        #stealing\n",
    "    result=0\n",
    "    total=r*u\n",
    "    for i in range(n):\n",
    "        result=result+arr[i]\n",
    "        if result>=total:\n",
    "            break\n",
    "        #after stealing still not sufficinet\n",
    "    if sum(arr)<total:\n",
    "        return 0\n",
    "    # sufficinet return house number\n",
    "    return i+1"
   ]
  },
  {
   "cell_type": "code",
   "execution_count": 67,
   "id": "4cfffdb5-f3d0-4180-a555-6ee0c766c117",
   "metadata": {},
   "outputs": [
    {
     "data": {
      "text/plain": [
       "7"
      ]
     },
     "execution_count": 67,
     "metadata": {},
     "output_type": "execute_result"
    }
   ],
   "source": [
    "rat(5,7,[2,8,3,7,4,7,9,8,56],8)"
   ]
  },
  {
   "cell_type": "markdown",
   "id": "d2c8c712-2b2f-4c91-a0fc-b3da38b99480",
   "metadata": {},
   "source": [
    "factors of a number"
   ]
  },
  {
   "cell_type": "code",
   "execution_count": 75,
   "id": "8d3d09ad-7005-4817-8170-3536391d6f57",
   "metadata": {},
   "outputs": [],
   "source": [
    "def fact(num):\n",
    "    list=[]\n",
    "    for i in range(1,num+1):\n",
    "        if num%i==0:\n",
    "            list.append(i)\n",
    "    return list\n",
    "            "
   ]
  },
  {
   "cell_type": "code",
   "execution_count": 76,
   "id": "4d14597e-a0e3-4059-ad4f-2cd65f926c16",
   "metadata": {},
   "outputs": [
    {
     "data": {
      "text/plain": [
       "[1, 2, 3, 4, 6, 12]"
      ]
     },
     "execution_count": 76,
     "metadata": {},
     "output_type": "execute_result"
    }
   ],
   "source": [
    "fact(12)"
   ]
  },
  {
   "cell_type": "code",
   "execution_count": 79,
   "id": "54fa90fa-9192-46ad-a3d2-0646b400e8b0",
   "metadata": {},
   "outputs": [],
   "source": [
    "def fact(num):\n",
    "    if num<=0:\n",
    "        return 0\n",
    "    mylist=[i for i in range(1,num+1) if num%i==0]\n",
    "    return mylist"
   ]
  },
  {
   "cell_type": "code",
   "execution_count": 81,
   "id": "5460d040-f127-4b34-9aba-9ab4683a66e3",
   "metadata": {},
   "outputs": [
    {
     "data": {
      "text/plain": [
       "[1, 3, 5, 9, 15, 45]"
      ]
     },
     "execution_count": 81,
     "metadata": {},
     "output_type": "execute_result"
    }
   ],
   "source": [
    "fact(45)"
   ]
  },
  {
   "cell_type": "markdown",
   "id": "4db3d47d-b174-4ddc-9a12-52a695c6e1d5",
   "metadata": {},
   "source": [
    "reverse string using stack/ array"
   ]
  },
  {
   "cell_type": "code",
   "execution_count": 91,
   "id": "91ee4f19-abe8-40ee-b8a1-ff749ffa734c",
   "metadata": {},
   "outputs": [],
   "source": [
    "class mystack:\n",
    "    def __init__(self):\n",
    "        self.st=[]\n",
    "    def reversestring(self,mystr):\n",
    "        result=' '\n",
    "        for i in mystr:\n",
    "            self.st.append(i)\n",
    "        for i in range(len(self.st)):\n",
    "            popped=self.st.pop()\n",
    "            result=result+popped\n",
    "        return result\n",
    "       \n",
    "    "
   ]
  },
  {
   "cell_type": "code",
   "execution_count": 111,
   "id": "61264b70-9196-401f-a36f-1ed5e00a2789",
   "metadata": {},
   "outputs": [
    {
     "data": {
      "text/plain": [
       "' ssik '"
      ]
     },
     "execution_count": 111,
     "metadata": {},
     "output_type": "execute_result"
    }
   ],
   "source": [
    "s=mystack()\n",
    "s.reversestring(\" kiss\")"
   ]
  },
  {
   "cell_type": "markdown",
   "id": "d04149a9-fb48-421b-826a-2871fc159202",
   "metadata": {},
   "source": [
    "number of stars of missing number"
   ]
  },
  {
   "cell_type": "code",
   "execution_count": 125,
   "id": "3ef144fa-d910-4f64-b29c-330d782c08c7",
   "metadata": {},
   "outputs": [],
   "source": [
    "def missno(arr):\n",
    "    for i in range(1,arr[-1]+1):\n",
    "        if i not in arr:\n",
    "            return i*'&'"
   ]
  },
  {
   "cell_type": "code",
   "execution_count": 128,
   "id": "1c65d0f9-52da-4f8a-8876-e3ff1be96ef9",
   "metadata": {},
   "outputs": [
    {
     "data": {
      "text/plain": [
       "'&&&&&&&&'"
      ]
     },
     "execution_count": 128,
     "metadata": {},
     "output_type": "execute_result"
    }
   ],
   "source": [
    "arr=[1,2,4,3,5,6,7,9]\n",
    "missno(arr)"
   ]
  },
  {
   "cell_type": "code",
   "execution_count": 140,
   "id": "4026749a-c82f-4cab-a101-487f595c2927",
   "metadata": {},
   "outputs": [
    {
     "data": {
      "text/plain": [
       "1"
      ]
     },
     "execution_count": 140,
     "metadata": {},
     "output_type": "execute_result"
    }
   ],
   "source": [
    "ord('A')-64"
   ]
  },
  {
   "cell_type": "markdown",
   "id": "1007b53a-a80b-4a4b-8835-eeb3ff33d8cb",
   "metadata": {},
   "source": [
    "excel sheet colum number"
   ]
  },
  {
   "cell_type": "code",
   "execution_count": 141,
   "id": "23a78c6a-7acc-44cd-be27-f13ab50fde81",
   "metadata": {},
   "outputs": [],
   "source": [
    "    def colnum(name):\n",
    "        result = 0\n",
    "        for i in name:\n",
    "            result = result*26 + ord(i)-64\n",
    "        return result"
   ]
  },
  {
   "cell_type": "code",
   "execution_count": 142,
   "id": "b6b4793f-facc-4938-8f3a-429c21b621df",
   "metadata": {},
   "outputs": [
    {
     "data": {
      "text/plain": [
       "36536"
      ]
     },
     "execution_count": 142,
     "metadata": {},
     "output_type": "execute_result"
    }
   ],
   "source": [
    "colnum(\"BBAF\")"
   ]
  },
  {
   "cell_type": "markdown",
   "id": "1db03e41-c941-4deb-ab85-db2373a00503",
   "metadata": {},
   "source": [
    "demonstrating atm function "
   ]
  },
  {
   "cell_type": "code",
   "execution_count": 1,
   "id": "2663cc25-f6ef-46f2-ae03-5ccea2e9fc75",
   "metadata": {},
   "outputs": [],
   "source": [
    "def atm():\n",
    "    print(\"Welcome to Canara Bank\")\n",
    "    pins = {\"sharath\": \"2004\", \"sindu\": \"3678\", \"vinay\": \"9535\"}\n",
    "    bal = {\"sharath\": 900000, \"sindu\": 70000, \"vinay\": 65000}\n",
    "    name = input(\"Enter your name: \")\n",
    "    pin = input(\"Enter your pin: \")\n",
    "    if  pins[name] != pin:\n",
    "        return \"Invalid pin \"\n",
    "    while True:\n",
    "        print(\"\\nATM Menu:\")\n",
    "        print(\"1. Withdraw\")\n",
    "        print(\"2. Deposit\")\n",
    "        print(\"3. Check Balance\")\n",
    "        print(\"4. FD Offers\")\n",
    "        print(\"5. Quit\")\n",
    "        choice = input(\"Enter your choice (1-5): \")\n",
    "\n",
    "        if choice == \"1\":  \n",
    "            amount = int(input(\"Enter amount to withdraw: \"))\n",
    "            if amount > bal[name]:\n",
    "                print(\"Insufficient balance!\")\n",
    "            else:\n",
    "                bal[name] = bal[name]-amount\n",
    "                print(\"Withdrawal successful\")\n",
    "\n",
    "        elif choice == \"2\": \n",
    "            amount = int(input(\"Enter amount to deposit: \"))\n",
    "            bal[name] = bal[name]+amount\n",
    "            print(\"Deposit successful\")\n",
    "\n",
    "        elif choice == \"3\": \n",
    "            print(\"Your current balance is\",bal[name])\n",
    "\n",
    "        elif choice == \"4\":\n",
    "            print(\"FD Offers: 5% interest for 1 year.\",bal[name])\n",
    "\n",
    "        elif choice == \"5\":  \n",
    "            print(\"Thank you for visiting Canara Bank ATM!\")\n",
    "            break\n",
    "\n",
    "        else:\n",
    "            print(\"Invalid choice, please try again.\")\n"
   ]
  },
  {
   "cell_type": "code",
   "execution_count": 2,
   "id": "c7eb132d-acd4-4d02-bdcd-c1cc561a4483",
   "metadata": {},
   "outputs": [
    {
     "name": "stdout",
     "output_type": "stream",
     "text": [
      "Welcome to Canara Bank\n"
     ]
    },
    {
     "name": "stdin",
     "output_type": "stream",
     "text": [
      "Enter your name:  sharath\n",
      "Enter your pin:  2004\n"
     ]
    },
    {
     "name": "stdout",
     "output_type": "stream",
     "text": [
      "\n",
      "ATM Menu:\n",
      "1. Withdraw\n",
      "2. Deposit\n",
      "3. Check Balance\n",
      "4. FD Offers\n",
      "5. Quit\n"
     ]
    },
    {
     "name": "stdin",
     "output_type": "stream",
     "text": [
      "Enter your choice (1-5):  1\n",
      "Enter amount to withdraw:  250000\n"
     ]
    },
    {
     "name": "stdout",
     "output_type": "stream",
     "text": [
      "Withdrawal successful\n",
      "\n",
      "ATM Menu:\n",
      "1. Withdraw\n",
      "2. Deposit\n",
      "3. Check Balance\n",
      "4. FD Offers\n",
      "5. Quit\n"
     ]
    },
    {
     "name": "stdin",
     "output_type": "stream",
     "text": [
      "Enter your choice (1-5):  2\n",
      "Enter amount to deposit:  100000\n"
     ]
    },
    {
     "name": "stdout",
     "output_type": "stream",
     "text": [
      "Deposit successful\n",
      "\n",
      "ATM Menu:\n",
      "1. Withdraw\n",
      "2. Deposit\n",
      "3. Check Balance\n",
      "4. FD Offers\n",
      "5. Quit\n"
     ]
    },
    {
     "name": "stdin",
     "output_type": "stream",
     "text": [
      "Enter your choice (1-5):  3\n"
     ]
    },
    {
     "name": "stdout",
     "output_type": "stream",
     "text": [
      "Your current balance is 750000\n",
      "\n",
      "ATM Menu:\n",
      "1. Withdraw\n",
      "2. Deposit\n",
      "3. Check Balance\n",
      "4. FD Offers\n",
      "5. Quit\n"
     ]
    },
    {
     "name": "stdin",
     "output_type": "stream",
     "text": [
      "Enter your choice (1-5):  4\n"
     ]
    },
    {
     "name": "stdout",
     "output_type": "stream",
     "text": [
      "FD Offers: 5% interest for 1 year. 750000\n",
      "\n",
      "ATM Menu:\n",
      "1. Withdraw\n",
      "2. Deposit\n",
      "3. Check Balance\n",
      "4. FD Offers\n",
      "5. Quit\n"
     ]
    },
    {
     "name": "stdin",
     "output_type": "stream",
     "text": [
      "Enter your choice (1-5):  5\n"
     ]
    },
    {
     "name": "stdout",
     "output_type": "stream",
     "text": [
      "Thank you for visiting Canara Bank ATM!\n"
     ]
    }
   ],
   "source": [
    "atm()\n"
   ]
  },
  {
   "cell_type": "code",
   "execution_count": 29,
   "id": "93d150db-06b1-4141-b2fb-00e2d0619ac6",
   "metadata": {},
   "outputs": [],
   "source": [
    "class LinkedList:\n",
    "    class Node:\n",
    "        def __init__(self, data=None):\n",
    "            self.data = data\n",
    "            self.next = None\n",
    "    def __init__(self):\n",
    "        self.head = None\n",
    "    \n",
    "    def insert_at_beginning(self, data):\n",
    "        new_node = Node(data)\n",
    "        new_node.next = self.head\n",
    "        self.head = new_node\n",
    "    def tra(self):\n",
    "        temp = self.head\n",
    "        while temp:\n",
    "            print(temp.data, end=' --> ')\n",
    "            temp = temp.next\n",
    "        print(None)\n",
    "    def nodefromreve(self,n):\n",
    "        count=0\n",
    "        count=self.head\n",
    "        while current:\n",
    "            count=count+1\n",
    "            current=current.next\n",
    "        if count==n:\n",
    "            return self.head.next\n",
    "        ptr1=self.head\n",
    "        for _ in range(count-n-1):\n",
    "            ptr1=ptr1.next\n",
    "            ptr1.next=ptr1.next.next\n",
    "            \n",
    "            \n",
    "        \n",
    "            \n",
    "  "
   ]
  },
  {
   "cell_type": "code",
   "execution_count": 12,
   "id": "a170f430-577d-4aad-9427-4a79de7c81ad",
   "metadata": {},
   "outputs": [],
   "source": [
    "class linkedlist:\n",
    "    class Node:\n",
    "        def __init__(self,data):\n",
    "            self.data=data\n",
    "            self.next=None\n",
    "    def __init__(self):\n",
    "        self.head=None\n",
    "    def  ins(self,data):\n",
    "        newnode=linkedlist.Node(data)\n",
    "        newnode.next=self.head\n",
    "        self.head=newnode\n",
    "    def tra(self):\n",
    "        current=self.head\n",
    "        while current:\n",
    "            print(current.data,end='-->')\n",
    "            current=current.next\n",
    "        print(None) \n",
    "    def dev(self,n):\n",
    "        count=0\n",
    "        current=self.head\n",
    "        while current:\n",
    "            count=count+1\n",
    "            current=current.next\n",
    "        if count==n:\n",
    "            return self.head.next\n",
    "        ptr=self.head\n",
    "        for _ in range(count-n-1):\n",
    "            ptr=ptr.next\n",
    "        ptr.next=ptr.next.next"
   ]
  },
  {
   "cell_type": "code",
   "execution_count": 13,
   "id": "ea91b4f2-1569-422e-9e3e-105948b43dac",
   "metadata": {},
   "outputs": [],
   "source": [
    "tra=linkedlist()\n",
    "tra.ins(89)\n",
    "tra.ins(98)\n",
    "tra.ins(71)\n",
    "tra.ins(4)\n",
    "tra.ins(6)\n",
    "tra.ins(7)"
   ]
  },
  {
   "cell_type": "code",
   "execution_count": 11,
   "id": "0c5bb63f-74b1-427a-bc3a-8b2104bff9d3",
   "metadata": {},
   "outputs": [],
   "source": []
  },
  {
   "cell_type": "code",
   "execution_count": null,
   "id": "c879195c-1026-43a3-b0ea-c2b5d6e407e7",
   "metadata": {},
   "outputs": [],
   "source": []
  }
 ],
 "metadata": {
  "kernelspec": {
   "display_name": "Python 3 (ipykernel)",
   "language": "python",
   "name": "python3"
  },
  "language_info": {
   "codemirror_mode": {
    "name": "ipython",
    "version": 3
   },
   "file_extension": ".py",
   "mimetype": "text/x-python",
   "name": "python",
   "nbconvert_exporter": "python",
   "pygments_lexer": "ipython3",
   "version": "3.11.7"
  }
 },
 "nbformat": 4,
 "nbformat_minor": 5
}
