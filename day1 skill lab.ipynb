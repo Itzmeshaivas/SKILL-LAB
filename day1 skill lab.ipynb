{
 "cells": [
  {
   "cell_type": "markdown",
   "id": "70d99205-e616-44d5-8ce3-07f84c723708",
   "metadata": {},
   "source": [
    "Reverse a Integer\n"
   ]
  },
  {
   "cell_type": "code",
   "execution_count": 11,
   "id": "04e267db-e5cf-4c5d-94a7-b44ebe0bd10d",
   "metadata": {},
   "outputs": [
    {
     "data": {
      "text/plain": [
       "'206'"
      ]
     },
     "execution_count": 11,
     "metadata": {},
     "output_type": "execute_result"
    }
   ],
   "source": [
    "#with typecasting\n",
    "def rev(num):\n",
    "    r=str(num)\n",
    "    return r[::-1]\n",
    "rev(602)   "
   ]
  },
  {
   "cell_type": "code",
   "execution_count": 2,
   "id": "9a696443-5986-40b5-a5cf-7d752c0af206",
   "metadata": {},
   "outputs": [
    {
     "data": {
      "text/plain": [
       "564"
      ]
     },
     "execution_count": 2,
     "metadata": {},
     "output_type": "execute_result"
    }
   ],
   "source": [
    "#without typecasting\n",
    "def rev(num):\n",
    "    result=0\n",
    "    while num!=0:  #465!=0     46!=0     4!=0\n",
    "        rem=num%10 #5          6       4\n",
    "        result=result*10+rem   #5   56   564\n",
    "        num=num//10  #46    4    0\n",
    "    return result\n",
    "rev(465)\n",
    " "
   ]
  },
  {
   "cell_type": "markdown",
   "id": "ca299350-3ce6-455c-8d61-b9b8677660c8",
   "metadata": {},
   "source": [
    "leetcode problem"
   ]
  },
  {
   "cell_type": "code",
   "execution_count": 4,
   "id": "b8e79a17-2c7b-45c8-9213-c0b88b8f437f",
   "metadata": {},
   "outputs": [],
   "source": [
    "#two sum\n",
    "class Solution(object):\n",
    "    def twoSum(self, nums, target):\n",
    "        for i in range(len(nums)):\n",
    "            for j in range(i+1,len(nums)):\n",
    "                if nums[j]==target-nums[i]:\n",
    "                    return[i,j]"
   ]
  },
  {
   "cell_type": "markdown",
   "id": "c581e8cb-bd39-437f-ad3e-4bdc51822ca3",
   "metadata": {},
   "source": [
    "palindrome\n"
   ]
  },
  {
   "cell_type": "code",
   "execution_count": 11,
   "id": "57b6d0f4-e9ea-439c-ba4c-ce55e93a1a18",
   "metadata": {},
   "outputs": [
    {
     "data": {
      "text/plain": [
       "True"
      ]
     },
     "execution_count": 11,
     "metadata": {},
     "output_type": "execute_result"
    }
   ],
   "source": [
    "def isPalindrome( x):\n",
    "    if x < 0:\n",
    "        return False\n",
    "    s = str(x)\n",
    "    return s == s[::-1]\n",
    "isPalindrome(121)"
   ]
  },
  {
   "cell_type": "markdown",
   "id": "c200b035-65b9-4e7e-b5d4-580349e986bc",
   "metadata": {},
   "source": [
    "Find the Index of the First Occurrence in a String"
   ]
  },
  {
   "cell_type": "code",
   "execution_count": 18,
   "id": "02f3fbb9-43f3-44f2-b1fc-453c434dac8f",
   "metadata": {},
   "outputs": [],
   "source": [
    "class Solution(object):\n",
    "    def strStr(self, haystack, needle):\n",
    "          return haystack.find(needle)"
   ]
  },
  {
   "cell_type": "raw",
   "id": "83c68365-25dd-4700-bb16-7fb37ca38274",
   "metadata": {},
   "source": [
    "reverseing a string"
   ]
  },
  {
   "cell_type": "code",
   "execution_count": null,
   "id": "f2a875fa-fa20-4f3c-ac91-7c1d8b54a419",
   "metadata": {},
   "outputs": [],
   "source": [
    "class Solution(object):\n",
    "    def reverseString(self, s):\n",
    "\n",
    "       s[:]=s[::-1]\n",
    "       return s"
   ]
  },
  {
   "cell_type": "raw",
   "id": "fac5c06c-99fc-4235-8492-d80f406b93f0",
   "metadata": {},
   "source": []
  }
 ],
 "metadata": {
  "kernelspec": {
   "display_name": "Python 3 (ipykernel)",
   "language": "python",
   "name": "python3"
  },
  "language_info": {
   "codemirror_mode": {
    "name": "ipython",
    "version": 3
   },
   "file_extension": ".py",
   "mimetype": "text/x-python",
   "name": "python",
   "nbconvert_exporter": "python",
   "pygments_lexer": "ipython3",
   "version": "3.11.7"
  }
 },
 "nbformat": 4,
 "nbformat_minor": 5
}
