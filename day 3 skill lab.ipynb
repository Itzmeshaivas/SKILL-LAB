{
 "cells": [
  {
   "cell_type": "markdown",
   "id": "193e7f1f-f9fe-4ad6-8d77-6bea97f8cc62",
   "metadata": {},
   "source": [
    "binary conversion"
   ]
  },
  {
   "cell_type": "code",
   "execution_count": 62,
   "id": "e1df5d66-6440-43ee-8cdc-c9a98025758d",
   "metadata": {},
   "outputs": [
    {
     "name": "stdout",
     "output_type": "stream",
     "text": [
      "3\n"
     ]
    }
   ],
   "source": [
    "a=\"11\"\n",
    "b=int(a,2)\n",
    "print(b)"
   ]
  },
  {
   "cell_type": "code",
   "execution_count": 6,
   "id": "014c429f-c5a7-42f3-979c-60cd2a7d45eb",
   "metadata": {},
   "outputs": [
    {
     "name": "stdout",
     "output_type": "stream",
     "text": [
      "1\n"
     ]
    }
   ],
   "source": [
    "c=\"1\"\n",
    "d=int(c,2)\n",
    "print(d)\n"
   ]
  },
  {
   "cell_type": "code",
   "execution_count": 8,
   "id": "e680f3a2-adee-4b42-85a1-68957b559b0c",
   "metadata": {},
   "outputs": [
    {
     "data": {
      "text/plain": [
       "'0b100'"
      ]
     },
     "execution_count": 8,
     "metadata": {},
     "output_type": "execute_result"
    }
   ],
   "source": [
    "bin(b+d)"
   ]
  },
  {
   "cell_type": "code",
   "execution_count": 9,
   "id": "4dc4b5e6-be4f-404e-b900-e4f0c52ef8b0",
   "metadata": {},
   "outputs": [
    {
     "data": {
      "text/plain": [
       "'100'"
      ]
     },
     "execution_count": 9,
     "metadata": {},
     "output_type": "execute_result"
    }
   ],
   "source": [
    "bin(b+d)[2:]"
   ]
  },
  {
   "cell_type": "markdown",
   "id": "01330ad5-6718-45b1-9374-494d56c61009",
   "metadata": {},
   "source": [
    "ADD BINARY"
   ]
  },
  {
   "cell_type": "code",
   "execution_count": 14,
   "id": "1208e7e0-2e76-48a8-981e-cc6b3b653b49",
   "metadata": {},
   "outputs": [],
   "source": [
    "    def addBinary(a, b):\n",
    "        return bin(int(a, 2) + int(b, 2))[2:]"
   ]
  },
  {
   "cell_type": "code",
   "execution_count": 16,
   "id": "8dbe77dd-22ac-4a7a-b6fd-74e9b91683a8",
   "metadata": {},
   "outputs": [
    {
     "data": {
      "text/plain": [
       "'100'"
      ]
     },
     "execution_count": 16,
     "metadata": {},
     "output_type": "execute_result"
    }
   ],
   "source": [
    "addBinary(\"11\",\"1\")"
   ]
  },
  {
   "cell_type": "markdown",
   "id": "497229d0-be0f-451e-abf0-3c1ec0127750",
   "metadata": {},
   "source": [
    "sum of difference"
   ]
  },
  {
   "cell_type": "code",
   "execution_count": 29,
   "id": "0db0afb7-e06c-4277-89c4-701c400e3e51",
   "metadata": {},
   "outputs": [],
   "source": [
    "def distance(x1,x2,x3,y1,y2,y3):\n",
    "    import math\n",
    "    first_diff=math.sqrt(math.pow(x2-x1,2)+math.pow(y2-y1,2))\n",
    "    second_diff=math.sqrt(math.pow(x3-x2,2)+math.pow(y3-y2,2))\n",
    "    third_diff=math.sqrt(math.pow(x3-x1,2)+math.pow(y3-y1,2))\n",
    "    return first_diff+second_diff+third_diff"
   ]
  },
  {
   "cell_type": "code",
   "execution_count": 30,
   "id": "7f2c381c-cdd5-4dad-95af-9689587b668b",
   "metadata": {},
   "outputs": [
    {
     "data": {
      "text/plain": [
       "10.783510444802673"
      ]
     },
     "execution_count": 30,
     "metadata": {},
     "output_type": "execute_result"
    }
   ],
   "source": [
    "distance(1,2,3,1,4,6)"
   ]
  },
  {
   "cell_type": "code",
   "execution_count": 38,
   "id": "8902ac9f-99fd-4781-82bd-3425b5dd05d0",
   "metadata": {},
   "outputs": [
    {
     "data": {
      "text/plain": [
       "(3.1622776601683795, 2.23606797749979, 5.385164807134504)"
      ]
     },
     "execution_count": 38,
     "metadata": {},
     "output_type": "execute_result"
    }
   ],
   "source": [
    "def distance(x1,x2,x3,y1,y2,y3):\n",
    "    AB=((x2-x1)**2+(y2-y1)**2)**0.5\n",
    "    BC=((x3-x2)**2+(y3-y2)**2)**0.5\n",
    "    CA=((x3-x1)**2+(y3-y1)**2)**0.5\n",
    "    return AB,BC,CA\n",
    "distance(1,2,3,1,4,6)\n",
    "\n",
    "    \n",
    "    \n",
    "    "
   ]
  },
  {
   "cell_type": "markdown",
   "id": "49e901f4-43ff-40a3-88f0-9481eba53a0f",
   "metadata": {},
   "source": [
    "string to integer"
   ]
  },
  {
   "cell_type": "code",
   "execution_count": 49,
   "id": "29407854-279a-4850-b673-1aa43d2c4d24",
   "metadata": {},
   "outputs": [],
   "source": [
    "def atoi(s):\n",
    "    s = s.strip()\n",
    "    if len(s) == 0:\n",
    "        return 0\n",
    "    sign = 1\n",
    "    if s[0] == '-':\n",
    "        sign = -1\n",
    "        s = s[1:]\n",
    "    elif s[0] == '+':\n",
    "        sign = 1\n",
    "        s = s[1:]\n",
    "    result = 0\n",
    "    for i in s:\n",
    "        if i.isdigit():\n",
    "            digit = int(i)\n",
    "            result = result * 10 + digit\n",
    "        else:\n",
    "            break\n",
    "    result = sign*result\n",
    "    maxi = 2**31 - 1\n",
    "    mini = -2**31\n",
    "    if result > maxi:\n",
    "        return maxi\n",
    "    elif result < mini:\n",
    "        return mini \n",
    "    else:\n",
    "        return result\n"
   ]
  },
  {
   "cell_type": "code",
   "execution_count": 50,
   "id": "d1014bb4-0f82-407d-9821-11e4443e4511",
   "metadata": {},
   "outputs": [
    {
     "data": {
      "text/plain": [
       "647"
      ]
     },
     "execution_count": 50,
     "metadata": {},
     "output_type": "execute_result"
    }
   ],
   "source": [
    "atoi(\"    647t466ghgh7\")"
   ]
  },
  {
   "cell_type": "markdown",
   "id": "ef7624ff-3367-4e71-bd2e-64fb6d901467",
   "metadata": {},
   "source": [
    "Roman to Integer"
   ]
  },
  {
   "cell_type": "code",
   "execution_count": 1,
   "id": "97015f1d-7cf7-4610-be29-47a9d4d65f53",
   "metadata": {},
   "outputs": [],
   "source": [
    "def romanToInt(s):\n",
    "    R= {'I': 1, 'V': 5, 'X': 10, 'L': 50, 'C': 100, 'D': 500, 'M': 1000}\n",
    "    total=0\n",
    "    for i in range(len(s)):\n",
    "        cval=R[s[i]]\n",
    "        nval= R[s[i+1]] if i+1<len(s) else 0\n",
    "        if cval>=nval:\n",
    "            total=total+cval\n",
    "        else:\n",
    "            total=total-cval\n",
    "    return total"
   ]
  },
  {
   "cell_type": "code",
   "execution_count": 2,
   "id": "e1fb249c-765a-4299-a5ba-800973081140",
   "metadata": {},
   "outputs": [
    {
     "data": {
      "text/plain": [
       "304"
      ]
     },
     "execution_count": 2,
     "metadata": {},
     "output_type": "execute_result"
    }
   ],
   "source": [
    "romanToInt('CLCCLIV')"
   ]
  },
  {
   "cell_type": "markdown",
   "id": "8e1fe134-7d4d-43ad-a328-835242054065",
   "metadata": {},
   "source": [
    "random shuffle of array"
   ]
  },
  {
   "cell_type": "code",
   "execution_count": 23,
   "id": "da502953-7b4c-402a-8da0-74e7c4913ccc",
   "metadata": {},
   "outputs": [
    {
     "name": "stdout",
     "output_type": "stream",
     "text": [
      "[3, 1, 2, 4, 5]\n"
     ]
    }
   ],
   "source": [
    "import random\n",
    "a=[1,2,3,4,5]\n",
    "random.shuffle(a)\n",
    "print(a)"
   ]
  },
  {
   "cell_type": "markdown",
   "id": "8b73eb1f-d374-4f98-be7d-db5a71f2c1ea",
   "metadata": {},
   "source": [
    " Find the Index of the First Occurrence in a String\r\n"
   ]
  },
  {
   "cell_type": "code",
   "execution_count": 13,
   "id": "69784d56-1370-4a74-98d8-4e35cad34644",
   "metadata": {},
   "outputs": [],
   "source": [
    "def subStr( haystack, needle):\n",
    "          return haystack.find(needle)   #outputs the index number when it finds the given string"
   ]
  },
  {
   "cell_type": "code",
   "execution_count": 15,
   "id": "ed07715e-a2d6-4622-bf6f-e12b31520969",
   "metadata": {},
   "outputs": [
    {
     "data": {
      "text/plain": [
       "24"
      ]
     },
     "execution_count": 15,
     "metadata": {},
     "output_type": "execute_result"
    }
   ],
   "source": [
    "subStr('hellosharathhellosharathhow','how')"
   ]
  },
  {
   "cell_type": "markdown",
   "id": "8d794fd5-9f39-4700-b23f-8652e1eae247",
   "metadata": {},
   "source": [
    "two sum"
   ]
  },
  {
   "cell_type": "code",
   "execution_count": 21,
   "id": "82901ef9-d531-4ed9-91e0-afc6eb0d5ed5",
   "metadata": {},
   "outputs": [],
   "source": [
    "def twoSum(nums, target):\n",
    "        for i in range(len(nums)):\n",
    "            for j in range(i+1,len(nums)):\n",
    "                if nums[j]==target-nums[i]:\n",
    "                    return[i,j]"
   ]
  },
  {
   "cell_type": "code",
   "execution_count": 27,
   "id": "e3ce37c1-d4ca-4062-b4f7-f34454359192",
   "metadata": {},
   "outputs": [
    {
     "data": {
      "text/plain": [
       "[1, 2]"
      ]
     },
     "execution_count": 27,
     "metadata": {},
     "output_type": "execute_result"
    }
   ],
   "source": [
    "nums = [3,2,4] \n",
    "target = 6\n",
    "twoSum(nums,target)"
   ]
  },
  {
   "cell_type": "markdown",
   "id": "d017271e-bad3-4ef1-a016-1608f132e119",
   "metadata": {},
   "source": [
    "Tax calculation"
   ]
  },
  {
   "cell_type": "code",
   "execution_count": 44,
   "id": "f58d0c5a-536c-4cb8-9683-8df89ba5775b",
   "metadata": {},
   "outputs": [],
   "source": [
    "def tax(s):\n",
    "    if s<0:\n",
    "        return 0\n",
    "    elif s>0 and s<=5000:\n",
    "        return \"no tax\"\n",
    "    elif s>5000 and s<=10000:\n",
    "        return s-(s*0.05+10)\n",
    "    elif s>10000 and s<=50000:\n",
    "        return s-(s*0.1+100)\n",
    "    elif s>50000 and s<=100000:\n",
    "        return s-(s*0.15+150)\n",
    "    elif s<100000 and s>=5000000:\n",
    "        return s-(s*0.20+600)\n",
    "    elif s>5000000:\n",
    "        return \"limit exceed\"\n"
   ]
  },
  {
   "cell_type": "code",
   "execution_count": 45,
   "id": "c452b858-070c-4dc2-92e2-5e0df3667317",
   "metadata": {},
   "outputs": [
    {
     "data": {
      "text/plain": [
       "'no tax'"
      ]
     },
     "execution_count": 45,
     "metadata": {},
     "output_type": "execute_result"
    }
   ],
   "source": [
    "tax(500)"
   ]
  },
  {
   "cell_type": "code",
   "execution_count": 46,
   "id": "2d3bcbda-33dc-420e-bdf0-916229181353",
   "metadata": {},
   "outputs": [
    {
     "data": {
      "text/plain": [
       "44900.0"
      ]
     },
     "execution_count": 46,
     "metadata": {},
     "output_type": "execute_result"
    }
   ],
   "source": [
    "tax(50000)"
   ]
  },
  {
   "cell_type": "code",
   "execution_count": 47,
   "id": "75b00e90-cc76-4132-8845-23c8d227e96b",
   "metadata": {},
   "outputs": [
    {
     "data": {
      "text/plain": [
       "22400.0"
      ]
     },
     "execution_count": 47,
     "metadata": {},
     "output_type": "execute_result"
    }
   ],
   "source": [
    "tax(25000)"
   ]
  },
  {
   "cell_type": "code",
   "execution_count": 48,
   "id": "e9ecf21f-98de-473a-8a6b-5de4ee45c188",
   "metadata": {},
   "outputs": [
    {
     "data": {
      "text/plain": [
       "'limit exceed'"
      ]
     },
     "execution_count": 48,
     "metadata": {},
     "output_type": "execute_result"
    }
   ],
   "source": [
    "tax(500000000)"
   ]
  },
  {
   "cell_type": "markdown",
   "id": "f5e933d6-8aaa-426f-bfd4-a357f1974e59",
   "metadata": {},
   "source": [
    "remove duplicates"
   ]
  },
  {
   "cell_type": "code",
   "execution_count": 49,
   "id": "acc7ab34-55b7-4219-8a50-5924c755068e",
   "metadata": {},
   "outputs": [],
   "source": [
    "def removeDuplicate(nums):\n",
    "    index=0\n",
    "    for i in range(1, len(nums)):\n",
    "        if nums[index] != nums[i]:\n",
    "            index = index+1\n",
    "            nums[index] = nums[i]\n",
    "    return index+1\n"
   ]
  },
  {
   "cell_type": "code",
   "execution_count": 50,
   "id": "1d46aa08-e663-4459-b52c-710ef33faa3c",
   "metadata": {},
   "outputs": [
    {
     "data": {
      "text/plain": [
       "4"
      ]
     },
     "execution_count": 50,
     "metadata": {},
     "output_type": "execute_result"
    }
   ],
   "source": [
    "removeDuplicate([1,1,2,3,4,4])"
   ]
  },
  {
   "cell_type": "markdown",
   "id": "9211d916-d9b1-4fc5-9dd3-0fdfcf07074c",
   "metadata": {},
   "source": [
    "climbing stairs"
   ]
  },
  {
   "cell_type": "code",
   "execution_count": 59,
   "id": "68c768de-0e54-40a5-acfa-772edf1c1658",
   "metadata": {},
   "outputs": [],
   "source": [
    "def climbStairs(n):\n",
    "    if n == 1:\n",
    "        return 1\n",
    "    if n == 2:\n",
    "            return 2\n",
    "    return climbStairs(n-1) + climbStairs(n-2)"
   ]
  },
  {
   "cell_type": "code",
   "execution_count": 61,
   "id": "73851f71-d1ca-4bc2-a9af-4a7a8c65b6d0",
   "metadata": {},
   "outputs": [
    {
     "data": {
      "text/plain": [
       "13"
      ]
     },
     "execution_count": 61,
     "metadata": {},
     "output_type": "execute_result"
    }
   ],
   "source": [
    "climbStairs(6)"
   ]
  },
  {
   "cell_type": "markdown",
   "id": "43dc3ffd-ab1b-4d46-a49e-43561cae13c5",
   "metadata": {},
   "source": []
  }
 ],
 "metadata": {
  "kernelspec": {
   "display_name": "Python 3 (ipykernel)",
   "language": "python",
   "name": "python3"
  },
  "language_info": {
   "codemirror_mode": {
    "name": "ipython",
    "version": 3
   },
   "file_extension": ".py",
   "mimetype": "text/x-python",
   "name": "python",
   "nbconvert_exporter": "python",
   "pygments_lexer": "ipython3",
   "version": "3.11.7"
  }
 },
 "nbformat": 4,
 "nbformat_minor": 5
}
