{
 "cells": [
  {
   "cell_type": "markdown",
   "id": "4ee227ab-8abb-46a4-b580-94523ed3beac",
   "metadata": {},
   "source": [
    "DAY 2"
   ]
  },
  {
   "cell_type": "markdown",
   "id": "594b62dd-248c-44fd-a8dc-4054f6768fe7",
   "metadata": {},
   "source": [
    "Hyphens"
   ]
  },
  {
   "cell_type": "code",
   "execution_count": 15,
   "id": "afa5d675-6efb-4cad-8d3e-549b4162d5e3",
   "metadata": {},
   "outputs": [
    {
     "data": {
      "text/plain": [
       "' --- hellohowareyou'"
      ]
     },
     "execution_count": 15,
     "metadata": {},
     "output_type": "execute_result"
    }
   ],
   "source": [
    "def hyphens(s):\n",
    "    alph=' '\n",
    "    hyp=' '\n",
    "    for i in s:\n",
    "        if i=='-':\n",
    "            hyp=hyp+i\n",
    "        else:\n",
    "            alph=alph+i\n",
    "    return hyp+alph \n",
    "hyphens(\"hello-how-are-you\")\n"
   ]
  },
  {
   "cell_type": "code",
   "execution_count": null,
   "id": "68cbe359-d4ab-4657-985f-c82e88b769ed",
   "metadata": {},
   "outputs": [],
   "source": [
    "N-BASE"
   ]
  },
  {
   "cell_type": "code",
   "execution_count": 38,
   "id": "89bd99d6-896a-435a-88b7-0173d15ceddf",
   "metadata": {},
   "outputs": [
    {
     "data": {
      "text/plain": [
       "'4BA '"
      ]
     },
     "execution_count": 38,
     "metadata": {},
     "output_type": "execute_result"
    }
   ],
   "source": [
    "def nbase(num,n):\n",
    "    remi=[]                        #empty list\n",
    "    while num!=0:\n",
    "        rem=num%n                #10    #11   #4\n",
    "        remi.append(rem)\n",
    "        num=num//n              #59   #4    #0\n",
    "    result=' '\n",
    "    for i in remi:\n",
    "        if i>9:\n",
    "            c=chr(i+55)\n",
    "            result=result+c\n",
    "        else:\n",
    "            c=str(i)\n",
    "            result=result+c\n",
    "    return result[::-1]\n",
    "nbase(718,12)"
   ]
  },
  {
   "cell_type": "markdown",
   "id": "8cd6df14-90ff-4926-8ccb-00bd853a45ff",
   "metadata": {},
   "source": [
    "password checker"
   ]
  },
  {
   "cell_type": "code",
   "execution_count": 64,
   "id": "bf602485-7584-4240-9ec8-f49970eab563",
   "metadata": {},
   "outputs": [],
   "source": [
    "def password(pwd):\n",
    "    if len(pwd)<4:\n",
    "        return 0\n",
    "    if pwd[0].isdigit():\n",
    "        return 0\n",
    "    cap=0\n",
    "    num=0\n",
    "    for i in pwd:\n",
    "        if i.isupper():\n",
    "            cap=1\n",
    "        elif i.isdigit():\n",
    "            num=1\n",
    "        elif i==\"?\" or i==\"/\":\n",
    "            return 0\n",
    "    if cap==1 and num==1:\n",
    "        return 1\n",
    "    else:\n",
    "        return 0"
   ]
  },
  {
   "cell_type": "code",
   "execution_count": 68,
   "id": "d2239b8f-aad3-4e02-8c79-1fb86d20c789",
   "metadata": {},
   "outputs": [
    {
     "data": {
      "text/plain": [
       "1"
      ]
     },
     "execution_count": 68,
     "metadata": {},
     "output_type": "execute_result"
    }
   ],
   "source": [
    "password(\"abvhv34D56\")"
   ]
  },
  {
   "cell_type": "markdown",
   "id": "1415b3f1-46fe-4484-8b62-7a898c1cacd3",
   "metadata": {},
   "source": [
    "difference between sum of divisible and not divisible"
   ]
  },
  {
   "cell_type": "code",
   "execution_count": 83,
   "id": "1b157246-e030-4dfd-9beb-c44ccc9c2ea8",
   "metadata": {},
   "outputs": [],
   "source": [
    "def sumdiff(n,m):\n",
    "    div=0\n",
    "    ndiv=0\n",
    "    for i in range(1,m+1):\n",
    "        if i%n==0:\n",
    "            div=div+i\n",
    "        else:\n",
    "            ndiv=ndiv+i\n",
    "    return abs(div-ndiv)"
   ]
  },
  {
   "cell_type": "code",
   "execution_count": 85,
   "id": "7fc47347-7bd8-4cd8-847a-b98a84d62106",
   "metadata": {},
   "outputs": [
    {
     "data": {
      "text/plain": [
       "110"
      ]
     },
     "execution_count": 85,
     "metadata": {},
     "output_type": "execute_result"
    }
   ],
   "source": [
    "sumdiff(5,20)"
   ]
  },
  {
   "cell_type": "code",
   "execution_count": 91,
   "id": "242e54d4-b2bb-4973-ab6f-613be505c737",
   "metadata": {},
   "outputs": [
    {
     "name": "stdout",
     "output_type": "stream",
     "text": [
      "[4, 3, 2]\n",
      "[1, 6, 11]\n",
      "[2, 3, 4]\n"
     ]
    }
   ],
   "source": [
    "arr=[4,1,3,6,2,11]\n",
    "n=len(arr)\n",
    "e=arr[0:n:2]\n",
    "o=arr[1:n:2]\n",
    "print(e)\n",
    "print(o)\n",
    "n=sorted(e)\n",
    "print(n)"
   ]
  },
  {
   "cell_type": "markdown",
   "id": "5d0a1d78-977b-41e6-aa8a-b52ec2fcbe3a",
   "metadata": {},
   "source": [
    "largesmallsum"
   ]
  },
  {
   "cell_type": "code",
   "execution_count": 110,
   "id": "690d9f79-1999-468a-97b8-618c0af6b637",
   "metadata": {},
   "outputs": [],
   "source": [
    "def largesmallsum(arr):\n",
    "    n=len(arr)\n",
    "    e=arr[0:n:2]\n",
    "    o=arr[1:n:2]\n",
    "    print(e)\n",
    "    print(o)\n",
    "    e.sort(reverse=True)\n",
    "    o.sort()\n",
    "    return (e[1]+o[1])\n",
    "                \n",
    "        \n",
    "    "
   ]
  },
  {
   "cell_type": "markdown",
   "id": "98aefd06-0e67-4d4e-b835-0aa790580a23",
   "metadata": {},
   "source": [
    "largesmallsum([4,1,3,6,2,11,5,5])"
   ]
  },
  {
   "cell_type": "markdown",
   "id": "070321fd-fe33-4637-b7cb-b3282ecb2fea",
   "metadata": {},
   "source": [
    "product of smallest pair"
   ]
  },
  {
   "cell_type": "code",
   "execution_count": 126,
   "id": "dc5fc1a4-48e3-4ac1-8106-bb97a9542e45",
   "metadata": {},
   "outputs": [
    {
     "data": {
      "text/plain": [
       "3"
      ]
     },
     "execution_count": 126,
     "metadata": {},
     "output_type": "execute_result"
    }
   ],
   "source": [
    "def product(arr, sum):\n",
    "    if len(arr)<2:\n",
    "        return -1\n",
    "    arr.sort()\n",
    "    if arr[0]+arr[1] <sum:\n",
    "        return arr[0]*arr[1]\n",
    "    else:\n",
    "        return 0\n",
    "product([4,1,3,7,8],6)"
   ]
  },
  {
   "cell_type": "markdown",
   "id": "87e60231-e4de-4b07-a403-ae19a2a42832",
   "metadata": {},
   "source": [
    "Absolute Difference"
   ]
  },
  {
   "cell_type": "code",
   "execution_count": 147,
   "id": "3f1a9148-43a7-4590-aab4-ff959a6c06a6",
   "metadata": {},
   "outputs": [],
   "source": [
    "def count(arr,num,diff):\n",
    "    count=0\n",
    "    for i in arr:\n",
    "        if abs(i-num)<=diff:\n",
    "            count=count+1\n",
    "    if count==0:\n",
    "        return -1\n",
    "    else:\n",
    "        return count"
   ]
  },
  {
   "cell_type": "code",
   "execution_count": 148,
   "id": "4eb9941a-8b2d-4853-aa1a-3d27e06b3403",
   "metadata": {},
   "outputs": [
    {
     "data": {
      "text/plain": [
       "3"
      ]
     },
     "execution_count": 148,
     "metadata": {},
     "output_type": "execute_result"
    }
   ],
   "source": [
    "count([9,7,3,21,10],8,2)"
   ]
  },
  {
   "cell_type": "markdown",
   "id": "2316ca61-47ef-4635-89cb-681a1c9745e0",
   "metadata": {},
   "source": [
    "valid parenthesis"
   ]
  },
  {
   "cell_type": "code",
   "execution_count": 163,
   "id": "ff5deaa7-a8e8-4897-b35a-396932089d12",
   "metadata": {},
   "outputs": [],
   "source": [
    "def validpara(p):\n",
    "    dict1={'(' : ')', '[' : ']', '{' : '}'}\n",
    "    stack=[]\n",
    "    for i in p:\n",
    "        if i in dict1:\n",
    "            stack.append(dict1[i])\n",
    "        else:\n",
    "            if stack[-1]==i:\n",
    "                stack.pop()\n",
    "    if len(stack)==0:\n",
    "       return \"valid\"\n",
    "    else:\n",
    "        return \"invalid\"\n",
    "        "
   ]
  },
  {
   "cell_type": "code",
   "execution_count": 165,
   "id": "ba70f9d2-35d6-4009-8602-20f82053c615",
   "metadata": {},
   "outputs": [
    {
     "data": {
      "text/plain": [
       "'valid'"
      ]
     },
     "execution_count": 165,
     "metadata": {},
     "output_type": "execute_result"
    }
   ],
   "source": [
    "validpara(\"[{()}]\")"
   ]
  },
  {
   "cell_type": "code",
   "execution_count": null,
   "id": "e1b0ab88-282f-4624-b789-db3507948af7",
   "metadata": {},
   "outputs": [],
   "source": []
  }
 ],
 "metadata": {
  "kernelspec": {
   "display_name": "Python 3 (ipykernel)",
   "language": "python",
   "name": "python3"
  },
  "language_info": {
   "codemirror_mode": {
    "name": "ipython",
    "version": 3
   },
   "file_extension": ".py",
   "mimetype": "text/x-python",
   "name": "python",
   "nbconvert_exporter": "python",
   "pygments_lexer": "ipython3",
   "version": "3.11.7"
  }
 },
 "nbformat": 4,
 "nbformat_minor": 5
}
