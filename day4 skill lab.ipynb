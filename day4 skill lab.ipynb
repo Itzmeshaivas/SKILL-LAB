{
 "cells": [
  {
   "cell_type": "markdown",
   "id": "94b0e5f3-559e-4029-a23c-a4b3cb6a77df",
   "metadata": {},
   "source": [
    "coding problem on DSA"
   ]
  },
  {
   "cell_type": "markdown",
   "id": "21ad40c7-bc84-4959-9ffe-2cc4896565c9",
   "metadata": {},
   "source": [
    "insert at begining"
   ]
  },
  {
   "cell_type": "code",
   "execution_count": 1,
   "id": "931d47e0-0e9f-4575-bd78-8212f74babb7",
   "metadata": {},
   "outputs": [],
   "source": [
    "class Node:\n",
    "    def __init__(self, data=None):\n",
    "        self.data = data\n",
    "        self.next = None\n",
    "\n",
    "class LinkedList:\n",
    "    def __init__(self):\n",
    "        self.head = None\n",
    "    \n",
    "    def insert_at_beginning(self, data):\n",
    "        new_node = Node(data)\n",
    "        new_node.next = self.head\n",
    "        self.head = new_node\n",
    "    \n",
    "    def delete_node(self, key):\n",
    "        temp = self.head\n",
    "        \n",
    "       \n",
    "        if temp is not None:\n",
    "            if temp.data == key:\n",
    "                self.head = temp.next  \n",
    "                temp = None  \n",
    "                return\n",
    "        \n",
    "        prev = None\n",
    "        while temp is not None:\n",
    "            if temp.data == key:\n",
    "                break\n",
    "            prev = temp\n",
    "            temp = temp.next\n",
    "        \n",
    "        if temp == None:\n",
    "            return\n",
    "        \n",
    "        prev.next = temp.next\n",
    "        temp = None\n",
    "    \n",
    "    def print_list(self):\n",
    "        temp = self.head\n",
    "        while temp:\n",
    "            print(temp.data, end=\" -> \")\n",
    "            temp = temp.next\n",
    "        print(\"None\")\n",
    "  \n",
    "        \n",
    "\n",
    "    "
   ]
  },
  {
   "cell_type": "code",
   "execution_count": 2,
   "id": "df991282-6714-4f5a-b0ab-186f15a0afa8",
   "metadata": {},
   "outputs": [
    {
     "name": "stdout",
     "output_type": "stream",
     "text": [
      "30 -> 20 -> 10 -> None\n",
      "30 -> 10 -> None\n"
     ]
    }
   ],
   "source": [
    "ll = LinkedList()\n",
    "ll.insert_at_beginning(10)\n",
    "ll.insert_at_beginning(20)\n",
    "ll.insert_at_beginning(30)\n",
    "ll.print_list()  \n",
    "\n",
    "ll.delete_node(20)\n",
    "ll.print_list()  \n"
   ]
  },
  {
   "cell_type": "markdown",
   "id": "9dc8edb1-d8a3-42b1-879b-addcf78887eb",
   "metadata": {},
   "source": [
    "linked list cycle"
   ]
  },
  {
   "cell_type": "code",
   "execution_count": 3,
   "id": "be41fd2c-fda6-4f45-8df5-fa7f39379a2f",
   "metadata": {},
   "outputs": [],
   "source": [
    "   def hasCycle(self, head):\n",
    "        t= head\n",
    "        r = head \n",
    "        while r and r.next:\n",
    "            t = t.next\n",
    "            r = r.next.next\n",
    "            if t == r:\n",
    "                return True\n",
    "        return False\n"
   ]
  },
  {
   "cell_type": "markdown",
   "id": "537821c6-4b51-4d30-958a-9fbb1cb77a49",
   "metadata": {},
   "source": [
    "middle of linkedlist"
   ]
  },
  {
   "cell_type": "code",
   "execution_count": 4,
   "id": "7d535b25-d66a-44b7-91f4-4bb5c844f784",
   "metadata": {},
   "outputs": [],
   "source": [
    "    def middleNode(head):\n",
    "        t= head\n",
    "        r = head\n",
    "        while r and r.next:\n",
    "            t = t.next \n",
    "            r = r.next.next\n",
    "        return t\n",
    "\n",
    "        "
   ]
  },
  {
   "cell_type": "markdown",
   "id": "56df021f-249a-4cdc-9eaa-4b7541d7f4d7",
   "metadata": {},
   "source": [
    "reversing a linked list"
   ]
  },
  {
   "cell_type": "code",
   "execution_count": 5,
   "id": "5c3aa9f2-b2db-4309-89cb-bd4f4b114b88",
   "metadata": {},
   "outputs": [],
   "source": [
    "    def reverseList(head):\n",
    "        prev=None\n",
    "        current=head\n",
    "        while current:\n",
    "            next = current.next\n",
    "            current.next = prev\n",
    "            prev=current\n",
    "            current=next\n",
    "        return prev\n",
    "        "
   ]
  },
  {
   "cell_type": "markdown",
   "id": "de193dd0-137c-436a-91a9-d959913132f0",
   "metadata": {},
   "source": [
    "merge sorted list"
   ]
  },
  {
   "cell_type": "code",
   "execution_count": 6,
   "id": "58e51a4a-e3ea-4706-b10d-40a232b28960",
   "metadata": {},
   "outputs": [],
   "source": [
    "def merge(self,l1,l2):\n",
    "    dummy=Node(0)\n",
    "    current= dummy\n",
    "    while l1 and l2:\n",
    "        if l1.val<l2.val:\n",
    "            current.next=l1\n",
    "            l1=l1.next\n",
    "        else:\n",
    "            current.next=l2\n",
    "            l2=l2.next\n",
    "        current=current.next\n",
    "    if l1:\n",
    "        current.next=l1\n",
    "    elif l2:\n",
    "        current.next=l2\n",
    "    return dummy.next"
   ]
  },
  {
   "cell_type": "code",
   "execution_count": 14,
   "id": "36e14766-f6bd-4357-a08b-eeeaebe7d16a",
   "metadata": {},
   "outputs": [
    {
     "name": "stdin",
     "output_type": "stream",
     "text": [
      "enter the value of m 12\n",
      "enter the value of n 50\n"
     ]
    },
    {
     "name": "stdout",
     "output_type": "stream",
     "text": [
      "15\n"
     ]
    }
   ],
   "source": [
    "def calculate(m,n):\n",
    "    s=0\n",
    "    for i in range(m,n+1):\n",
    "        if (i%3==0) and (i%5==0):\n",
    "            s=s+i\n",
    "            return s\n",
    "m=int(input(\"enter the value of m\"))\n",
    "n=int(input(\"enter the value of n\"))\n",
    "result=calculate(m,n)\n",
    "print(result)"
   ]
  },
  {
   "cell_type": "markdown",
   "id": "04909a2e-f284-4533-99f5-091d57660f6e",
   "metadata": {},
   "source": [
    "add two sum"
   ]
  },
  {
   "cell_type": "code",
   "execution_count": 5,
   "id": "64f9e88c-7772-478d-9268-44f288d7f05d",
   "metadata": {},
   "outputs": [],
   "source": [
    "def addll(l1,l2):\n",
    "    dummy=ListNode(0)\n",
    "    current=dummy\n",
    "    carry=0\n",
    "    while l1 or l2 or carry:\n",
    "        val1=l1.val if l1 else 0\n",
    "        val2=l2.val if l2 else 0\n",
    "        total=val1+val2+carry\n",
    "        carry=total//10\n",
    "        element=total%10\n",
    "        newnode=linkedlist.Node(element)\n",
    "        current.next=newnode\n",
    "        current=current.next\n",
    "        l1=l1.next if l1 else 0\n",
    "        l2=l2.next if l2 else 0\n",
    "    return dummy.next\n",
    "        \n",
    "    \n"
   ]
  },
  {
   "cell_type": "markdown",
   "id": "6b8cc435-3594-4bfa-8b1f-f51d901fec2d",
   "metadata": {},
   "source": [
    "maximum subarray"
   ]
  },
  {
   "cell_type": "code",
   "execution_count": 8,
   "id": "9ecc86cd-d780-4967-861c-5c1d6c3bf0a7",
   "metadata": {},
   "outputs": [],
   "source": [
    "def maxsum(arr):\n",
    "    c=arr[0]\n",
    "    g=arr[0]\n",
    "    for i in range(1,len(arr)):\n",
    "        c=max(arr[i],c+arr[i])\n",
    "        g=max(c,g)\n",
    "    return g\n",
    "    "
   ]
  },
  {
   "cell_type": "code",
   "execution_count": 9,
   "id": "bfffc43d-c5e5-4f71-9a77-1094d153f368",
   "metadata": {},
   "outputs": [
    {
     "data": {
      "text/plain": [
       "15"
      ]
     },
     "execution_count": 9,
     "metadata": {},
     "output_type": "execute_result"
    }
   ],
   "source": [
    "maxsum([2,3,-1,-5,7,8])"
   ]
  },
  {
   "cell_type": "code",
   "execution_count": 33,
   "id": "fb1b0344-5881-4d26-97b1-8d2aaf61095f",
   "metadata": {},
   "outputs": [],
   "source": [
    "class stack:\n",
    "    def __init__ (self):\n",
    "        self.s1=[]\n",
    "        self.temp=[]\n",
    "    def push(self,val):\n",
    "        while self.s1:\n",
    "            popped=self.s1.pop()\n",
    "            self.temp.append(popped)\n",
    "        self.s1.append(val)\n",
    "        while self.temp:\n",
    "            poped=self.temp.pop()\n",
    "            self.s1.append(poped)\n",
    "    def pop(self):\n",
    "        return self.s1.pop() if self.s1 else \"no elements\"\n",
    "    def peek(self):\n",
    "        return self.s1[-1] if self.s1 else \"no elements\"\n",
    "    def empty(self):\n",
    "        return len(self.s1)==0"
   ]
  },
  {
   "cell_type": "code",
   "execution_count": 34,
   "id": "1f10be4b-8294-4a38-8b7e-6898e712ce6b",
   "metadata": {},
   "outputs": [],
   "source": [
    "s=stack()\n",
    "s.push(90)\n",
    "s.push(89)\n",
    "s.push(56)\n"
   ]
  },
  {
   "cell_type": "code",
   "execution_count": 32,
   "id": "8cce8f80-a491-42f9-b4f2-3abb97b0ca57",
   "metadata": {},
   "outputs": [
    {
     "data": {
      "text/plain": [
       "90"
      ]
     },
     "execution_count": 32,
     "metadata": {},
     "output_type": "execute_result"
    }
   ],
   "source": [
    "s.pop()"
   ]
  },
  {
   "cell_type": "code",
   "execution_count": 35,
   "id": "fac3c9c1-81b6-4cad-9571-a8e4987c2c9d",
   "metadata": {},
   "outputs": [
    {
     "data": {
      "text/plain": [
       "90"
      ]
     },
     "execution_count": 35,
     "metadata": {},
     "output_type": "execute_result"
    }
   ],
   "source": [
    "s.peek()"
   ]
  },
  {
   "cell_type": "code",
   "execution_count": 36,
   "id": "9a0dd80b-6044-4311-bc8c-40fd1ee1d493",
   "metadata": {},
   "outputs": [
    {
     "data": {
      "text/plain": [
       "False"
      ]
     },
     "execution_count": 36,
     "metadata": {},
     "output_type": "execute_result"
    }
   ],
   "source": [
    "s.empty()"
   ]
  },
  {
   "cell_type": "code",
   "execution_count": null,
   "id": "4bb15050-77ad-4203-b2cd-5bc44111e5b4",
   "metadata": {},
   "outputs": [],
   "source": []
  }
 ],
 "metadata": {
  "kernelspec": {
   "display_name": "Python 3 (ipykernel)",
   "language": "python",
   "name": "python3"
  },
  "language_info": {
   "codemirror_mode": {
    "name": "ipython",
    "version": 3
   },
   "file_extension": ".py",
   "mimetype": "text/x-python",
   "name": "python",
   "nbconvert_exporter": "python",
   "pygments_lexer": "ipython3",
   "version": "3.11.7"
  }
 },
 "nbformat": 4,
 "nbformat_minor": 5
}
